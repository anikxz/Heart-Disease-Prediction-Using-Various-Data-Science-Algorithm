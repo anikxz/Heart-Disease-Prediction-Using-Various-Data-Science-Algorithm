{
  "cells": [
    {
      "cell_type": "markdown",
      "metadata": {
        "id": "view-in-github",
        "colab_type": "text"
      },
      "source": [
        "<a href=\"https://colab.research.google.com/github/anikxz/Heart-Disease-Prediction-Using-Various-Data-Science-Algorithm/blob/main/An_Approach_to_heart_disease_prediction_using_Data_Science_algorithm.ipynb\" target=\"_parent\"><img src=\"https://colab.research.google.com/assets/colab-badge.svg\" alt=\"Open In Colab\"/></a>"
      ]
    },
    {
      "cell_type": "code",
      "execution_count": null,
      "metadata": {
        "id": "qXGjMT98eq6m"
      },
      "outputs": [],
      "source": [
        "import pandas as pd\n",
        "import numpy as np\n",
        "import seaborn as sns\n",
        "import matplotlib as plt\n",
        "import matplotlib.pyplot as plt\n",
        "from google.colab import drive"
      ]
    },
    {
      "cell_type": "code",
      "execution_count": null,
      "metadata": {
        "colab": {
          "base_uri": "https://localhost:8080/"
        },
        "id": "p-Ux9wcpgNmQ",
        "outputId": "336a17be-f825-4c0a-8c56-705eec8718a1"
      },
      "outputs": [
        {
          "output_type": "stream",
          "name": "stdout",
          "text": [
            "Mounted at /content/drive\n"
          ]
        }
      ],
      "source": [
        "drive.mount('/content/drive')"
      ]
    },
    {
      "cell_type": "code",
      "execution_count": null,
      "metadata": {
        "id": "ri09wn5WgNud"
      },
      "outputs": [],
      "source": [
        "data = pd.read_csv('/content/drive/MyDrive/Data/Final data HD.csv')"
      ]
    },
    {
      "cell_type": "code",
      "execution_count": null,
      "metadata": {
        "colab": {
          "base_uri": "https://localhost:8080/",
          "height": 332
        },
        "id": "7M89CYSzgNxW",
        "outputId": "5dc54af4-cda3-441d-e5f6-13e660bc7671"
      },
      "outputs": [
        {
          "output_type": "execute_result",
          "data": {
            "text/plain": [
              "   age  sex  cp_type  resting bp s  cholesterol  fasting blood sugar  \\\n",
              "0   40    1        2           140          289                    0   \n",
              "1   49    0        3           160          180                    0   \n",
              "2   37    1        2           130          283                    0   \n",
              "3   48    0        4           138          214                    0   \n",
              "4   54    1        3           150          195                    0   \n",
              "5   39    1        3           120          339                    0   \n",
              "6   45    0        2           130          237                    0   \n",
              "7   54    1        2           110          208                    0   \n",
              "8   37    1        4           140          207                    0   \n",
              "\n",
              "   resting ecg  max heart rate  exercise angina  oldpeak  ST slope  target  \n",
              "0            0             172                0      0.0         1       0  \n",
              "1            0             156                0      1.0         2       1  \n",
              "2            1              98                0      0.0         1       0  \n",
              "3            0             108                1      1.5         2       1  \n",
              "4            0             122                0      0.0         1       0  \n",
              "5            0             170                0      0.0         1       0  \n",
              "6            0             170                0      0.0         1       0  \n",
              "7            0             142                0      0.0         1       0  \n",
              "8            0             130                1      1.5         2       1  "
            ],
            "text/html": [
              "\n",
              "  <div id=\"df-9df8aa02-7f47-4d9c-98d8-5c5ceba2cb2e\">\n",
              "    <div class=\"colab-df-container\">\n",
              "      <div>\n",
              "<style scoped>\n",
              "    .dataframe tbody tr th:only-of-type {\n",
              "        vertical-align: middle;\n",
              "    }\n",
              "\n",
              "    .dataframe tbody tr th {\n",
              "        vertical-align: top;\n",
              "    }\n",
              "\n",
              "    .dataframe thead th {\n",
              "        text-align: right;\n",
              "    }\n",
              "</style>\n",
              "<table border=\"1\" class=\"dataframe\">\n",
              "  <thead>\n",
              "    <tr style=\"text-align: right;\">\n",
              "      <th></th>\n",
              "      <th>age</th>\n",
              "      <th>sex</th>\n",
              "      <th>cp_type</th>\n",
              "      <th>resting bp s</th>\n",
              "      <th>cholesterol</th>\n",
              "      <th>fasting blood sugar</th>\n",
              "      <th>resting ecg</th>\n",
              "      <th>max heart rate</th>\n",
              "      <th>exercise angina</th>\n",
              "      <th>oldpeak</th>\n",
              "      <th>ST slope</th>\n",
              "      <th>target</th>\n",
              "    </tr>\n",
              "  </thead>\n",
              "  <tbody>\n",
              "    <tr>\n",
              "      <th>0</th>\n",
              "      <td>40</td>\n",
              "      <td>1</td>\n",
              "      <td>2</td>\n",
              "      <td>140</td>\n",
              "      <td>289</td>\n",
              "      <td>0</td>\n",
              "      <td>0</td>\n",
              "      <td>172</td>\n",
              "      <td>0</td>\n",
              "      <td>0.0</td>\n",
              "      <td>1</td>\n",
              "      <td>0</td>\n",
              "    </tr>\n",
              "    <tr>\n",
              "      <th>1</th>\n",
              "      <td>49</td>\n",
              "      <td>0</td>\n",
              "      <td>3</td>\n",
              "      <td>160</td>\n",
              "      <td>180</td>\n",
              "      <td>0</td>\n",
              "      <td>0</td>\n",
              "      <td>156</td>\n",
              "      <td>0</td>\n",
              "      <td>1.0</td>\n",
              "      <td>2</td>\n",
              "      <td>1</td>\n",
              "    </tr>\n",
              "    <tr>\n",
              "      <th>2</th>\n",
              "      <td>37</td>\n",
              "      <td>1</td>\n",
              "      <td>2</td>\n",
              "      <td>130</td>\n",
              "      <td>283</td>\n",
              "      <td>0</td>\n",
              "      <td>1</td>\n",
              "      <td>98</td>\n",
              "      <td>0</td>\n",
              "      <td>0.0</td>\n",
              "      <td>1</td>\n",
              "      <td>0</td>\n",
              "    </tr>\n",
              "    <tr>\n",
              "      <th>3</th>\n",
              "      <td>48</td>\n",
              "      <td>0</td>\n",
              "      <td>4</td>\n",
              "      <td>138</td>\n",
              "      <td>214</td>\n",
              "      <td>0</td>\n",
              "      <td>0</td>\n",
              "      <td>108</td>\n",
              "      <td>1</td>\n",
              "      <td>1.5</td>\n",
              "      <td>2</td>\n",
              "      <td>1</td>\n",
              "    </tr>\n",
              "    <tr>\n",
              "      <th>4</th>\n",
              "      <td>54</td>\n",
              "      <td>1</td>\n",
              "      <td>3</td>\n",
              "      <td>150</td>\n",
              "      <td>195</td>\n",
              "      <td>0</td>\n",
              "      <td>0</td>\n",
              "      <td>122</td>\n",
              "      <td>0</td>\n",
              "      <td>0.0</td>\n",
              "      <td>1</td>\n",
              "      <td>0</td>\n",
              "    </tr>\n",
              "    <tr>\n",
              "      <th>5</th>\n",
              "      <td>39</td>\n",
              "      <td>1</td>\n",
              "      <td>3</td>\n",
              "      <td>120</td>\n",
              "      <td>339</td>\n",
              "      <td>0</td>\n",
              "      <td>0</td>\n",
              "      <td>170</td>\n",
              "      <td>0</td>\n",
              "      <td>0.0</td>\n",
              "      <td>1</td>\n",
              "      <td>0</td>\n",
              "    </tr>\n",
              "    <tr>\n",
              "      <th>6</th>\n",
              "      <td>45</td>\n",
              "      <td>0</td>\n",
              "      <td>2</td>\n",
              "      <td>130</td>\n",
              "      <td>237</td>\n",
              "      <td>0</td>\n",
              "      <td>0</td>\n",
              "      <td>170</td>\n",
              "      <td>0</td>\n",
              "      <td>0.0</td>\n",
              "      <td>1</td>\n",
              "      <td>0</td>\n",
              "    </tr>\n",
              "    <tr>\n",
              "      <th>7</th>\n",
              "      <td>54</td>\n",
              "      <td>1</td>\n",
              "      <td>2</td>\n",
              "      <td>110</td>\n",
              "      <td>208</td>\n",
              "      <td>0</td>\n",
              "      <td>0</td>\n",
              "      <td>142</td>\n",
              "      <td>0</td>\n",
              "      <td>0.0</td>\n",
              "      <td>1</td>\n",
              "      <td>0</td>\n",
              "    </tr>\n",
              "    <tr>\n",
              "      <th>8</th>\n",
              "      <td>37</td>\n",
              "      <td>1</td>\n",
              "      <td>4</td>\n",
              "      <td>140</td>\n",
              "      <td>207</td>\n",
              "      <td>0</td>\n",
              "      <td>0</td>\n",
              "      <td>130</td>\n",
              "      <td>1</td>\n",
              "      <td>1.5</td>\n",
              "      <td>2</td>\n",
              "      <td>1</td>\n",
              "    </tr>\n",
              "  </tbody>\n",
              "</table>\n",
              "</div>\n",
              "      <button class=\"colab-df-convert\" onclick=\"convertToInteractive('df-9df8aa02-7f47-4d9c-98d8-5c5ceba2cb2e')\"\n",
              "              title=\"Convert this dataframe to an interactive table.\"\n",
              "              style=\"display:none;\">\n",
              "        \n",
              "  <svg xmlns=\"http://www.w3.org/2000/svg\" height=\"24px\"viewBox=\"0 0 24 24\"\n",
              "       width=\"24px\">\n",
              "    <path d=\"M0 0h24v24H0V0z\" fill=\"none\"/>\n",
              "    <path d=\"M18.56 5.44l.94 2.06.94-2.06 2.06-.94-2.06-.94-.94-2.06-.94 2.06-2.06.94zm-11 1L8.5 8.5l.94-2.06 2.06-.94-2.06-.94L8.5 2.5l-.94 2.06-2.06.94zm10 10l.94 2.06.94-2.06 2.06-.94-2.06-.94-.94-2.06-.94 2.06-2.06.94z\"/><path d=\"M17.41 7.96l-1.37-1.37c-.4-.4-.92-.59-1.43-.59-.52 0-1.04.2-1.43.59L10.3 9.45l-7.72 7.72c-.78.78-.78 2.05 0 2.83L4 21.41c.39.39.9.59 1.41.59.51 0 1.02-.2 1.41-.59l7.78-7.78 2.81-2.81c.8-.78.8-2.07 0-2.86zM5.41 20L4 18.59l7.72-7.72 1.47 1.35L5.41 20z\"/>\n",
              "  </svg>\n",
              "      </button>\n",
              "      \n",
              "  <style>\n",
              "    .colab-df-container {\n",
              "      display:flex;\n",
              "      flex-wrap:wrap;\n",
              "      gap: 12px;\n",
              "    }\n",
              "\n",
              "    .colab-df-convert {\n",
              "      background-color: #E8F0FE;\n",
              "      border: none;\n",
              "      border-radius: 50%;\n",
              "      cursor: pointer;\n",
              "      display: none;\n",
              "      fill: #1967D2;\n",
              "      height: 32px;\n",
              "      padding: 0 0 0 0;\n",
              "      width: 32px;\n",
              "    }\n",
              "\n",
              "    .colab-df-convert:hover {\n",
              "      background-color: #E2EBFA;\n",
              "      box-shadow: 0px 1px 2px rgba(60, 64, 67, 0.3), 0px 1px 3px 1px rgba(60, 64, 67, 0.15);\n",
              "      fill: #174EA6;\n",
              "    }\n",
              "\n",
              "    [theme=dark] .colab-df-convert {\n",
              "      background-color: #3B4455;\n",
              "      fill: #D2E3FC;\n",
              "    }\n",
              "\n",
              "    [theme=dark] .colab-df-convert:hover {\n",
              "      background-color: #434B5C;\n",
              "      box-shadow: 0px 1px 3px 1px rgba(0, 0, 0, 0.15);\n",
              "      filter: drop-shadow(0px 1px 2px rgba(0, 0, 0, 0.3));\n",
              "      fill: #FFFFFF;\n",
              "    }\n",
              "  </style>\n",
              "\n",
              "      <script>\n",
              "        const buttonEl =\n",
              "          document.querySelector('#df-9df8aa02-7f47-4d9c-98d8-5c5ceba2cb2e button.colab-df-convert');\n",
              "        buttonEl.style.display =\n",
              "          google.colab.kernel.accessAllowed ? 'block' : 'none';\n",
              "\n",
              "        async function convertToInteractive(key) {\n",
              "          const element = document.querySelector('#df-9df8aa02-7f47-4d9c-98d8-5c5ceba2cb2e');\n",
              "          const dataTable =\n",
              "            await google.colab.kernel.invokeFunction('convertToInteractive',\n",
              "                                                     [key], {});\n",
              "          if (!dataTable) return;\n",
              "\n",
              "          const docLinkHtml = 'Like what you see? Visit the ' +\n",
              "            '<a target=\"_blank\" href=https://colab.research.google.com/notebooks/data_table.ipynb>data table notebook</a>'\n",
              "            + ' to learn more about interactive tables.';\n",
              "          element.innerHTML = '';\n",
              "          dataTable['output_type'] = 'display_data';\n",
              "          await google.colab.output.renderOutput(dataTable, element);\n",
              "          const docLink = document.createElement('div');\n",
              "          docLink.innerHTML = docLinkHtml;\n",
              "          element.appendChild(docLink);\n",
              "        }\n",
              "      </script>\n",
              "    </div>\n",
              "  </div>\n",
              "  "
            ]
          },
          "metadata": {},
          "execution_count": 5
        }
      ],
      "source": [
        "data.head(9)"
      ]
    },
    {
      "cell_type": "code",
      "execution_count": null,
      "metadata": {
        "colab": {
          "base_uri": "https://localhost:8080/"
        },
        "id": "q8EsTFfvgN0R",
        "outputId": "83107127-d8d8-49bd-eeb3-3c8eafea47e1"
      },
      "outputs": [
        {
          "output_type": "execute_result",
          "data": {
            "text/plain": [
              "(1190, 12)"
            ]
          },
          "metadata": {},
          "execution_count": 6
        }
      ],
      "source": [
        "data.shape"
      ]
    },
    {
      "cell_type": "code",
      "execution_count": null,
      "metadata": {
        "colab": {
          "base_uri": "https://localhost:8080/"
        },
        "id": "oGsiC89CgN26",
        "outputId": "5e36ae6e-3d05-4b79-c5a2-c54fe1444ef9"
      },
      "outputs": [
        {
          "output_type": "execute_result",
          "data": {
            "text/plain": [
              "1    629\n",
              "0    561\n",
              "Name: target, dtype: int64"
            ]
          },
          "metadata": {},
          "execution_count": 7
        }
      ],
      "source": [
        "data['target'].value_counts()"
      ]
    },
    {
      "cell_type": "code",
      "execution_count": null,
      "metadata": {
        "colab": {
          "base_uri": "https://localhost:8080/",
          "height": 351
        },
        "id": "e8kLTcOtgN8l",
        "outputId": "20449fc6-4415-4957-ff3e-cb7a68d817d5"
      },
      "outputs": [
        {
          "output_type": "stream",
          "name": "stderr",
          "text": [
            "/usr/local/lib/python3.7/dist-packages/seaborn/_decorators.py:43: FutureWarning: Pass the following variable as a keyword arg: x. From version 0.12, the only valid positional argument will be `data`, and passing other arguments without an explicit keyword will result in an error or misinterpretation.\n",
            "  FutureWarning\n"
          ]
        },
        {
          "output_type": "execute_result",
          "data": {
            "text/plain": [
              "<matplotlib.axes._subplots.AxesSubplot at 0x7f5886080fd0>"
            ]
          },
          "metadata": {},
          "execution_count": 8
        },
        {
          "output_type": "display_data",
          "data": {
            "text/plain": [
              "<Figure size 432x288 with 1 Axes>"
            ],
            "image/png": "[encoded data removed]"
          },
          "metadata": {
            "needs_background": "light"
          }
        }
      ],
      "source": [
        "sns.countplot(data['target'])"
      ]
    },
    {
      "cell_type": "code",
      "execution_count": null,
      "metadata": {
        "colab": {
          "base_uri": "https://localhost:8080/"
        },
        "id": "TQ1Kfqk-gN_Q",
        "outputId": "c9b4610d-47f8-4312-b4d1-a63ed874f893"
      },
      "outputs": [
        {
          "output_type": "execute_result",
          "data": {
            "text/plain": [
              "False"
            ]
          },
          "metadata": {},
          "execution_count": 9
        }
      ],
      "source": [
        "data.isnull().values.any()"
      ]
    },
    {
      "cell_type": "code",
      "execution_count": null,
      "metadata": {
        "colab": {
          "base_uri": "https://localhost:8080/",
          "height": 300
        },
        "id": "hwmVe3wegOCM",
        "outputId": "405933d9-116b-414b-9449-9dbdde37f209"
      },
      "outputs": [
        {
          "output_type": "execute_result",
          "data": {
            "text/plain": [
              "               age          sex      cp_type  resting bp s  cholesterol  \\\n",
              "count  1190.000000  1190.000000  1190.000000   1190.000000  1190.000000   \n",
              "mean     53.720168     0.763866     3.232773    132.153782   210.363866   \n",
              "std       9.358203     0.424884     0.935480     18.368823   101.420489   \n",
              "min      28.000000     0.000000     1.000000      0.000000     0.000000   \n",
              "25%      47.000000     1.000000     3.000000    120.000000   188.000000   \n",
              "50%      54.000000     1.000000     4.000000    130.000000   229.000000   \n",
              "75%      60.000000     1.000000     4.000000    140.000000   269.750000   \n",
              "max      77.000000     1.000000     4.000000    200.000000   603.000000   \n",
              "\n",
              "       fasting blood sugar  resting ecg  max heart rate  exercise angina  \\\n",
              "count          1190.000000  1190.000000     1190.000000      1190.000000   \n",
              "mean              0.213445     0.698319      139.732773         0.387395   \n",
              "std               0.409912     0.870359       25.517636         0.487360   \n",
              "min               0.000000     0.000000       60.000000         0.000000   \n",
              "25%               0.000000     0.000000      121.000000         0.000000   \n",
              "50%               0.000000     0.000000      140.500000         0.000000   \n",
              "75%               0.000000     2.000000      160.000000         1.000000   \n",
              "max               1.000000     2.000000      202.000000         1.000000   \n",
              "\n",
              "           oldpeak     ST slope       target  \n",
              "count  1190.000000  1190.000000  1190.000000  \n",
              "mean      0.922773     1.624370     0.528571  \n",
              "std       1.086337     0.610459     0.499393  \n",
              "min      -2.600000     0.000000     0.000000  \n",
              "25%       0.000000     1.000000     0.000000  \n",
              "50%       0.600000     2.000000     1.000000  \n",
              "75%       1.600000     2.000000     1.000000  \n",
              "max       6.200000     3.000000     1.000000  "
            ],
            "text/html": [
              "\n",
              "  <div id=\"df-777940e4-ad47-49cb-8bdd-06f027e2158b\">\n",
              "    <div class=\"colab-df-container\">\n",
              "      <div>\n",
              "<style scoped>\n",
              "    .dataframe tbody tr th:only-of-type {\n",
              "        vertical-align: middle;\n",
              "    }\n",
              "\n",
              "    .dataframe tbody tr th {\n",
              "        vertical-align: top;\n",
              "    }\n",
              "\n",
              "    .dataframe thead th {\n",
              "        text-align: right;\n",
              "    }\n",
              "</style>\n",
              "<table border=\"1\" class=\"dataframe\">\n",
              "  <thead>\n",
              "    <tr style=\"text-align: right;\">\n",
              "      <th></th>\n",
              "      <th>age</th>\n",
              "      <th>sex</th>\n",
              "      <th>cp_type</th>\n",
              "      <th>resting bp s</th>\n",
              "      <th>cholesterol</th>\n",
              "      <th>fasting blood sugar</th>\n",
              "      <th>resting ecg</th>\n",
              "      <th>max heart rate</th>\n",
              "      <th>exercise angina</th>\n",
              "      <th>oldpeak</th>\n",
              "      <th>ST slope</th>\n",
              "      <th>target</th>\n",
              "    </tr>\n",
              "  </thead>\n",
              "  <tbody>\n",
              "    <tr>\n",
              "      <th>count</th>\n",
              "      <td>1190.000000</td>\n",
              "      <td>1190.000000</td>\n",
              "      <td>1190.000000</td>\n",
              "      <td>1190.000000</td>\n",
              "      <td>1190.000000</td>\n",
              "      <td>1190.000000</td>\n",
              "      <td>1190.000000</td>\n",
              "      <td>1190.000000</td>\n",
              "      <td>1190.000000</td>\n",
              "      <td>1190.000000</td>\n",
              "      <td>1190.000000</td>\n",
              "      <td>1190.000000</td>\n",
              "    </tr>\n",
              "    <tr>\n",
              "      <th>mean</th>\n",
              "      <td>53.720168</td>\n",
              "      <td>0.763866</td>\n",
              "      <td>3.232773</td>\n",
              "      <td>132.153782</td>\n",
              "      <td>210.363866</td>\n",
              "      <td>0.213445</td>\n",
              "      <td>0.698319</td>\n",
              "      <td>139.732773</td>\n",
              "      <td>0.387395</td>\n",
              "      <td>0.922773</td>\n",
              "      <td>1.624370</td>\n",
              "      <td>0.528571</td>\n",
              "    </tr>\n",
              "    <tr>\n",
              "      <th>std</th>\n",
              "      <td>9.358203</td>\n",
              "      <td>0.424884</td>\n",
              "      <td>0.935480</td>\n",
              "      <td>18.368823</td>\n",
              "      <td>101.420489</td>\n",
              "      <td>0.409912</td>\n",
              "      <td>0.870359</td>\n",
              "      <td>25.517636</td>\n",
              "      <td>0.487360</td>\n",
              "      <td>1.086337</td>\n",
              "      <td>0.610459</td>\n",
              "      <td>0.499393</td>\n",
              "    </tr>\n",
              "    <tr>\n",
              "      <th>min</th>\n",
              "      <td>28.000000</td>\n",
              "      <td>0.000000</td>\n",
              "      <td>1.000000</td>\n",
              "      <td>0.000000</td>\n",
              "      <td>0.000000</td>\n",
              "      <td>0.000000</td>\n",
              "      <td>0.000000</td>\n",
              "      <td>60.000000</td>\n",
              "      <td>0.000000</td>\n",
              "      <td>-2.600000</td>\n",
              "      <td>0.000000</td>\n",
              "      <td>0.000000</td>\n",
              "    </tr>\n",
              "    <tr>\n",
              "      <th>25%</th>\n",
              "      <td>47.000000</td>\n",
              "      <td>1.000000</td>\n",
              "      <td>3.000000</td>\n",
              "      <td>120.000000</td>\n",
              "      <td>188.000000</td>\n",
              "      <td>0.000000</td>\n",
              "      <td>0.000000</td>\n",
              "      <td>121.000000</td>\n",
              "      <td>0.000000</td>\n",
              "      <td>0.000000</td>\n",
              "      <td>1.000000</td>\n",
              "      <td>0.000000</td>\n",
              "    </tr>\n",
              "    <tr>\n",
              "      <th>50%</th>\n",
              "      <td>54.000000</td>\n",
              "      <td>1.000000</td>\n",
              "      <td>4.000000</td>\n",
              "      <td>130.000000</td>\n",
              "      <td>229.000000</td>\n",
              "      <td>0.000000</td>\n",
              "      <td>0.000000</td>\n",
              "      <td>140.500000</td>\n",
              "      <td>0.000000</td>\n",
              "      <td>0.600000</td>\n",
              "      <td>2.000000</td>\n",
              "      <td>1.000000</td>\n",
              "    </tr>\n",
              "    <tr>\n",
              "      <th>75%</th>\n",
              "      <td>60.000000</td>\n",
              "      <td>1.000000</td>\n",
              "      <td>4.000000</td>\n",
              "      <td>140.000000</td>\n",
              "      <td>269.750000</td>\n",
              "      <td>0.000000</td>\n",
              "      <td>2.000000</td>\n",
              "      <td>160.000000</td>\n",
              "      <td>1.000000</td>\n",
              "      <td>1.600000</td>\n",
              "      <td>2.000000</td>\n",
              "      <td>1.000000</td>\n",
              "    </tr>\n",
              "    <tr>\n",
              "      <th>max</th>\n",
              "      <td>77.000000</td>\n",
              "      <td>1.000000</td>\n",
              "      <td>4.000000</td>\n",
              "      <td>200.000000</td>\n",
              "      <td>603.000000</td>\n",
              "      <td>1.000000</td>\n",
              "      <td>2.000000</td>\n",
              "      <td>202.000000</td>\n",
              "      <td>1.000000</td>\n",
              "      <td>6.200000</td>\n",
              "      <td>3.000000</td>\n",
              "      <td>1.000000</td>\n",
              "    </tr>\n",
              "  </tbody>\n",
              "</table>\n",
              "</div>\n",
              "      <button class=\"colab-df-convert\" onclick=\"convertToInteractive('df-777940e4-ad47-49cb-8bdd-06f027e2158b')\"\n",
              "              title=\"Convert this dataframe to an interactive table.\"\n",
              "              style=\"display:none;\">\n",
              "        \n",
              "  <svg xmlns=\"http://www.w3.org/2000/svg\" height=\"24px\"viewBox=\"0 0 24 24\"\n",
              "       width=\"24px\">\n",
              "    <path d=\"M0 0h24v24H0V0z\" fill=\"none\"/>\n",
              "    <path d=\"M18.56 5.44l.94 2.06.94-2.06 2.06-.94-2.06-.94-.94-2.06-.94 2.06-2.06.94zm-11 1L8.5 8.5l.94-2.06 2.06-.94-2.06-.94L8.5 2.5l-.94 2.06-2.06.94zm10 10l.94 2.06.94-2.06 2.06-.94-2.06-.94-.94-2.06-.94 2.06-2.06.94z\"/><path d=\"M17.41 7.96l-1.37-1.37c-.4-.4-.92-.59-1.43-.59-.52 0-1.04.2-1.43.59L10.3 9.45l-7.72 7.72c-.78.78-.78 2.05 0 2.83L4 21.41c.39.39.9.59 1.41.59.51 0 1.02-.2 1.41-.59l7.78-7.78 2.81-2.81c.8-.78.8-2.07 0-2.86zM5.41 20L4 18.59l7.72-7.72 1.47 1.35L5.41 20z\"/>\n",
              "  </svg>\n",
              "      </button>\n",
              "      \n",
              "  <style>\n",
              "    .colab-df-container {\n",
              "      display:flex;\n",
              "      flex-wrap:wrap;\n",
              "      gap: 12px;\n",
              "    }\n",
              "\n",
              "    .colab-df-convert {\n",
              "      background-color: #E8F0FE;\n",
              "      border: none;\n",
              "      border-radius: 50%;\n",
              "      cursor: pointer;\n",
              "      display: none;\n",
              "      fill: #1967D2;\n",
              "      height: 32px;\n",
              "      padding: 0 0 0 0;\n",
              "      width: 32px;\n",
              "    }\n",
              "\n",
              "    .colab-df-convert:hover {\n",
              "      background-color: #E2EBFA;\n",
              "      box-shadow: 0px 1px 2px rgba(60, 64, 67, 0.3), 0px 1px 3px 1px rgba(60, 64, 67, 0.15);\n",
              "      fill: #174EA6;\n",
              "    }\n",
              "\n",
              "    [theme=dark] .colab-df-convert {\n",
              "      background-color: #3B4455;\n",
              "      fill: #D2E3FC;\n",
              "    }\n",
              "\n",
              "    [theme=dark] .colab-df-convert:hover {\n",
              "      background-color: #434B5C;\n",
              "      box-shadow: 0px 1px 3px 1px rgba(0, 0, 0, 0.15);\n",
              "      filter: drop-shadow(0px 1px 2px rgba(0, 0, 0, 0.3));\n",
              "      fill: #FFFFFF;\n",
              "    }\n",
              "  </style>\n",
              "\n",
              "      <script>\n",
              "        const buttonEl =\n",
              "          document.querySelector('#df-777940e4-ad47-49cb-8bdd-06f027e2158b button.colab-df-convert');\n",
              "        buttonEl.style.display =\n",
              "          google.colab.kernel.accessAllowed ? 'block' : 'none';\n",
              "\n",
              "        async function convertToInteractive(key) {\n",
              "          const element = document.querySelector('#df-777940e4-ad47-49cb-8bdd-06f027e2158b');\n",
              "          const dataTable =\n",
              "            await google.colab.kernel.invokeFunction('convertToInteractive',\n",
              "                                                     [key], {});\n",
              "          if (!dataTable) return;\n",
              "\n",
              "          const docLinkHtml = 'Like what you see? Visit the ' +\n",
              "            '<a target=\"_blank\" href=https://colab.research.google.com/notebooks/data_table.ipynb>data table notebook</a>'\n",
              "            + ' to learn more about interactive tables.';\n",
              "          element.innerHTML = '';\n",
              "          dataTable['output_type'] = 'display_data';\n",
              "          await google.colab.output.renderOutput(dataTable, element);\n",
              "          const docLink = document.createElement('div');\n",
              "          docLink.innerHTML = docLinkHtml;\n",
              "          element.appendChild(docLink);\n",
              "        }\n",
              "      </script>\n",
              "    </div>\n",
              "  </div>\n",
              "  "
            ]
          },
          "metadata": {},
          "execution_count": 10
        }
      ],
      "source": [
        "data.describe()"
      ]
    },
    {
      "cell_type": "code",
      "execution_count": null,
      "metadata": {
        "colab": {
          "base_uri": "https://localhost:8080/",
          "height": 699
        },
        "id": "DP5UMuIUgOFH",
        "outputId": "ae63b4c5-d557-4c3c-e4db-12200fc5ac17"
      },
      "outputs": [
        {
          "output_type": "execute_result",
          "data": {
            "text/plain": [
              "<matplotlib.axes._subplots.AxesSubplot at 0x7f5885088450>"
            ]
          },
          "metadata": {},
          "execution_count": 11
        },
        {
          "output_type": "display_data",
          "data": {
            "text/plain": [
              "<Figure size 1080x720 with 3 Axes>"
            ],
            "image/png": "[encoded data removed]"
          },
          "metadata": {
            "needs_background": "light"
          }
        }
      ],
      "source": [
        "#correlation matrix\n",
        "corr = data.corr()\n",
        "plt.subplots(figsize=(15,10))\n",
        "sns.heatmap(corr, xticklabels=corr.columns, yticklabels=corr.columns,\n",
        "annot=True, cmap=sns.diverging_palette(240, 10, n=9))\n",
        "sns.heatmap(corr, xticklabels=corr.columns,\n",
        "yticklabels=corr.columns,\n",
        "annot=True,\n",
        "cmap=sns.diverging_palette(240, 10, n=9))"
      ]
    },
    {
      "cell_type": "code",
      "execution_count": null,
      "metadata": {
        "id": "s7Jqw5Y9gOIU"
      },
      "outputs": [],
      "source": [
        "x = data.iloc[:,:-1]"
      ]
    },
    {
      "cell_type": "code",
      "execution_count": null,
      "metadata": {
        "colab": {
          "base_uri": "https://localhost:8080/",
          "height": 424
        },
        "id": "xkFlnI2AgOKp",
        "outputId": "2f288272-7046-4931-bdf0-4de2305cf464"
      },
      "outputs": [
        {
          "output_type": "execute_result",
          "data": {
            "text/plain": [
              "      age  sex  cp_type  resting bp s  cholesterol  fasting blood sugar  \\\n",
              "0      40    1        2           140          289                    0   \n",
              "1      49    0        3           160          180                    0   \n",
              "2      37    1        2           130          283                    0   \n",
              "3      48    0        4           138          214                    0   \n",
              "4      54    1        3           150          195                    0   \n",
              "...   ...  ...      ...           ...          ...                  ...   \n",
              "1185   45    1        1           110          264                    0   \n",
              "1186   68    1        4           144          193                    1   \n",
              "1187   57    1        4           130          131                    0   \n",
              "1188   57    0        2           130          236                    0   \n",
              "1189   38    1        3           138          175                    0   \n",
              "\n",
              "      resting ecg  max heart rate  exercise angina  oldpeak  ST slope  \n",
              "0               0             172                0      0.0         1  \n",
              "1               0             156                0      1.0         2  \n",
              "2               1              98                0      0.0         1  \n",
              "3               0             108                1      1.5         2  \n",
              "4               0             122                0      0.0         1  \n",
              "...           ...             ...              ...      ...       ...  \n",
              "1185            0             132                0      1.2         2  \n",
              "1186            0             141                0      3.4         2  \n",
              "1187            0             115                1      1.2         2  \n",
              "1188            2             174                0      0.0         2  \n",
              "1189            0             173                0      0.0         1  \n",
              "\n",
              "[1190 rows x 11 columns]"
            ],
            "text/html": [
              "\n",
              "  <div id=\"df-3c8715df-ae92-49bf-be47-934338eb334d\">\n",
              "    <div class=\"colab-df-container\">\n",
              "      <div>\n",
              "<style scoped>\n",
              "    .dataframe tbody tr th:only-of-type {\n",
              "        vertical-align: middle;\n",
              "    }\n",
              "\n",
              "    .dataframe tbody tr th {\n",
              "        vertical-align: top;\n",
              "    }\n",
              "\n",
              "    .dataframe thead th {\n",
              "        text-align: right;\n",
              "    }\n",
              "</style>\n",
              "<table border=\"1\" class=\"dataframe\">\n",
              "  <thead>\n",
              "    <tr style=\"text-align: right;\">\n",
              "      <th></th>\n",
              "      <th>age</th>\n",
              "      <th>sex</th>\n",
              "      <th>cp_type</th>\n",
              "      <th>resting bp s</th>\n",
              "      <th>cholesterol</th>\n",
              "      <th>fasting blood sugar</th>\n",
              "      <th>resting ecg</th>\n",
              "      <th>max heart rate</th>\n",
              "      <th>exercise angina</th>\n",
              "      <th>oldpeak</th>\n",
              "      <th>ST slope</th>\n",
              "    </tr>\n",
              "  </thead>\n",
              "  <tbody>\n",
              "    <tr>\n",
              "      <th>0</th>\n",
              "      <td>40</td>\n",
              "      <td>1</td>\n",
              "      <td>2</td>\n",
              "      <td>140</td>\n",
              "      <td>289</td>\n",
              "      <td>0</td>\n",
              "      <td>0</td>\n",
              "      <td>172</td>\n",
              "      <td>0</td>\n",
              "      <td>0.0</td>\n",
              "      <td>1</td>\n",
              "    </tr>\n",
              "    <tr>\n",
              "      <th>1</th>\n",
              "      <td>49</td>\n",
              "      <td>0</td>\n",
              "      <td>3</td>\n",
              "      <td>160</td>\n",
              "      <td>180</td>\n",
              "      <td>0</td>\n",
              "      <td>0</td>\n",
              "      <td>156</td>\n",
              "      <td>0</td>\n",
              "      <td>1.0</td>\n",
              "      <td>2</td>\n",
              "    </tr>\n",
              "    <tr>\n",
              "      <th>2</th>\n",
              "      <td>37</td>\n",
              "      <td>1</td>\n",
              "      <td>2</td>\n",
              "      <td>130</td>\n",
              "      <td>283</td>\n",
              "      <td>0</td>\n",
              "      <td>1</td>\n",
              "      <td>98</td>\n",
              "      <td>0</td>\n",
              "      <td>0.0</td>\n",
              "      <td>1</td>\n",
              "    </tr>\n",
              "    <tr>\n",
              "      <th>3</th>\n",
              "      <td>48</td>\n",
              "      <td>0</td>\n",
              "      <td>4</td>\n",
              "      <td>138</td>\n",
              "      <td>214</td>\n",
              "      <td>0</td>\n",
              "      <td>0</td>\n",
              "      <td>108</td>\n",
              "      <td>1</td>\n",
              "      <td>1.5</td>\n",
              "      <td>2</td>\n",
              "    </tr>\n",
              "    <tr>\n",
              "      <th>4</th>\n",
              "      <td>54</td>\n",
              "      <td>1</td>\n",
              "      <td>3</td>\n",
              "      <td>150</td>\n",
              "      <td>195</td>\n",
              "      <td>0</td>\n",
              "      <td>0</td>\n",
              "      <td>122</td>\n",
              "      <td>0</td>\n",
              "      <td>0.0</td>\n",
              "      <td>1</td>\n",
              "    </tr>\n",
              "    <tr>\n",
              "      <th>...</th>\n",
              "      <td>...</td>\n",
              "      <td>...</td>\n",
              "      <td>...</td>\n",
              "      <td>...</td>\n",
              "      <td>...</td>\n",
              "      <td>...</td>\n",
              "      <td>...</td>\n",
              "      <td>...</td>\n",
              "      <td>...</td>\n",
              "      <td>...</td>\n",
              "      <td>...</td>\n",
              "    </tr>\n",
              "    <tr>\n",
              "      <th>1185</th>\n",
              "      <td>45</td>\n",
              "      <td>1</td>\n",
              "      <td>1</td>\n",
              "      <td>110</td>\n",
              "      <td>264</td>\n",
              "      <td>0</td>\n",
              "      <td>0</td>\n",
              "      <td>132</td>\n",
              "      <td>0</td>\n",
              "      <td>1.2</td>\n",
              "      <td>2</td>\n",
              "    </tr>\n",
              "    <tr>\n",
              "      <th>1186</th>\n",
              "      <td>68</td>\n",
              "      <td>1</td>\n",
              "      <td>4</td>\n",
              "      <td>144</td>\n",
              "      <td>193</td>\n",
              "      <td>1</td>\n",
              "      <td>0</td>\n",
              "      <td>141</td>\n",
              "      <td>0</td>\n",
              "      <td>3.4</td>\n",
              "      <td>2</td>\n",
              "    </tr>\n",
              "    <tr>\n",
              "      <th>1187</th>\n",
              "      <td>57</td>\n",
              "      <td>1</td>\n",
              "      <td>4</td>\n",
              "      <td>130</td>\n",
              "      <td>131</td>\n",
              "      <td>0</td>\n",
              "      <td>0</td>\n",
              "      <td>115</td>\n",
              "      <td>1</td>\n",
              "      <td>1.2</td>\n",
              "      <td>2</td>\n",
              "    </tr>\n",
              "    <tr>\n",
              "      <th>1188</th>\n",
              "      <td>57</td>\n",
              "      <td>0</td>\n",
              "      <td>2</td>\n",
              "      <td>130</td>\n",
              "      <td>236</td>\n",
              "      <td>0</td>\n",
              "      <td>2</td>\n",
              "      <td>174</td>\n",
              "      <td>0</td>\n",
              "      <td>0.0</td>\n",
              "      <td>2</td>\n",
              "    </tr>\n",
              "    <tr>\n",
              "      <th>1189</th>\n",
              "      <td>38</td>\n",
              "      <td>1</td>\n",
              "      <td>3</td>\n",
              "      <td>138</td>\n",
              "      <td>175</td>\n",
              "      <td>0</td>\n",
              "      <td>0</td>\n",
              "      <td>173</td>\n",
              "      <td>0</td>\n",
              "      <td>0.0</td>\n",
              "      <td>1</td>\n",
              "    </tr>\n",
              "  </tbody>\n",
              "</table>\n",
              "<p>1190 rows × 11 columns</p>\n",
              "</div>\n",
              "      <button class=\"colab-df-convert\" onclick=\"convertToInteractive('df-3c8715df-ae92-49bf-be47-934338eb334d')\"\n",
              "              title=\"Convert this dataframe to an interactive table.\"\n",
              "              style=\"display:none;\">\n",
              "        \n",
              "  <svg xmlns=\"http://www.w3.org/2000/svg\" height=\"24px\"viewBox=\"0 0 24 24\"\n",
              "       width=\"24px\">\n",
              "    <path d=\"M0 0h24v24H0V0z\" fill=\"none\"/>\n",
              "    <path d=\"M18.56 5.44l.94 2.06.94-2.06 2.06-.94-2.06-.94-.94-2.06-.94 2.06-2.06.94zm-11 1L8.5 8.5l.94-2.06 2.06-.94-2.06-.94L8.5 2.5l-.94 2.06-2.06.94zm10 10l.94 2.06.94-2.06 2.06-.94-2.06-.94-.94-2.06-.94 2.06-2.06.94z\"/><path d=\"M17.41 7.96l-1.37-1.37c-.4-.4-.92-.59-1.43-.59-.52 0-1.04.2-1.43.59L10.3 9.45l-7.72 7.72c-.78.78-.78 2.05 0 2.83L4 21.41c.39.39.9.59 1.41.59.51 0 1.02-.2 1.41-.59l7.78-7.78 2.81-2.81c.8-.78.8-2.07 0-2.86zM5.41 20L4 18.59l7.72-7.72 1.47 1.35L5.41 20z\"/>\n",
              "  </svg>\n",
              "      </button>\n",
              "      \n",
              "  <style>\n",
              "    .colab-df-container {\n",
              "      display:flex;\n",
              "      flex-wrap:wrap;\n",
              "      gap: 12px;\n",
              "    }\n",
              "\n",
              "    .colab-df-convert {\n",
              "      background-color: #E8F0FE;\n",
              "      border: none;\n",
              "      border-radius: 50%;\n",
              "      cursor: pointer;\n",
              "      display: none;\n",
              "      fill: #1967D2;\n",
              "      height: 32px;\n",
              "      padding: 0 0 0 0;\n",
              "      width: 32px;\n",
              "    }\n",
              "\n",
              "    .colab-df-convert:hover {\n",
              "      background-color: #E2EBFA;\n",
              "      box-shadow: 0px 1px 2px rgba(60, 64, 67, 0.3), 0px 1px 3px 1px rgba(60, 64, 67, 0.15);\n",
              "      fill: #174EA6;\n",
              "    }\n",
              "\n",
              "    [theme=dark] .colab-df-convert {\n",
              "      background-color: #3B4455;\n",
              "      fill: #D2E3FC;\n",
              "    }\n",
              "\n",
              "    [theme=dark] .colab-df-convert:hover {\n",
              "      background-color: #434B5C;\n",
              "      box-shadow: 0px 1px 3px 1px rgba(0, 0, 0, 0.15);\n",
              "      filter: drop-shadow(0px 1px 2px rgba(0, 0, 0, 0.3));\n",
              "      fill: #FFFFFF;\n",
              "    }\n",
              "  </style>\n",
              "\n",
              "      <script>\n",
              "        const buttonEl =\n",
              "          document.querySelector('#df-3c8715df-ae92-49bf-be47-934338eb334d button.colab-df-convert');\n",
              "        buttonEl.style.display =\n",
              "          google.colab.kernel.accessAllowed ? 'block' : 'none';\n",
              "\n",
              "        async function convertToInteractive(key) {\n",
              "          const element = document.querySelector('#df-3c8715df-ae92-49bf-be47-934338eb334d');\n",
              "          const dataTable =\n",
              "            await google.colab.kernel.invokeFunction('convertToInteractive',\n",
              "                                                     [key], {});\n",
              "          if (!dataTable) return;\n",
              "\n",
              "          const docLinkHtml = 'Like what you see? Visit the ' +\n",
              "            '<a target=\"_blank\" href=https://colab.research.google.com/notebooks/data_table.ipynb>data table notebook</a>'\n",
              "            + ' to learn more about interactive tables.';\n",
              "          element.innerHTML = '';\n",
              "          dataTable['output_type'] = 'display_data';\n",
              "          await google.colab.output.renderOutput(dataTable, element);\n",
              "          const docLink = document.createElement('div');\n",
              "          docLink.innerHTML = docLinkHtml;\n",
              "          element.appendChild(docLink);\n",
              "        }\n",
              "      </script>\n",
              "    </div>\n",
              "  </div>\n",
              "  "
            ]
          },
          "metadata": {},
          "execution_count": 13
        }
      ],
      "source": [
        "x"
      ]
    },
    {
      "cell_type": "code",
      "execution_count": null,
      "metadata": {
        "id": "2LYr3EPhgONR"
      },
      "outputs": [],
      "source": [
        "y = data.iloc[:,11]"
      ]
    },
    {
      "cell_type": "code",
      "execution_count": null,
      "metadata": {
        "colab": {
          "base_uri": "https://localhost:8080/"
        },
        "id": "jqWjs0ALgOQR",
        "outputId": "b168196b-ff97-4c03-dca9-816b40b84837"
      },
      "outputs": [
        {
          "output_type": "execute_result",
          "data": {
            "text/plain": [
              "0       0\n",
              "1       1\n",
              "2       0\n",
              "3       1\n",
              "4       0\n",
              "       ..\n",
              "1185    1\n",
              "1186    1\n",
              "1187    1\n",
              "1188    1\n",
              "1189    0\n",
              "Name: target, Length: 1190, dtype: int64"
            ]
          },
          "metadata": {},
          "execution_count": 15
        }
      ],
      "source": [
        "y"
      ]
    },
    {
      "cell_type": "code",
      "execution_count": null,
      "metadata": {
        "id": "Jf2UDzZrgOSy"
      },
      "outputs": [],
      "source": [
        "from sklearn.model_selection import train_test_split"
      ]
    },
    {
      "cell_type": "code",
      "execution_count": null,
      "metadata": {
        "id": "YZO3WJCmgOV7"
      },
      "outputs": [],
      "source": [
        "xtrain,xtest,ytrain,ytest = train_test_split(x,y,test_size=0.20 , random_state=10)"
      ]
    },
    {
      "cell_type": "code",
      "execution_count": null,
      "metadata": {
        "colab": {
          "base_uri": "https://localhost:8080/",
          "height": 424
        },
        "id": "MP2hpQmngOYy",
        "outputId": "8bc4b3cc-91c3-4728-b95e-9815b71de21c"
      },
      "outputs": [
        {
          "output_type": "execute_result",
          "data": {
            "text/plain": [
              "      age  sex  cp_type  resting bp s  cholesterol  fasting blood sugar  \\\n",
              "1129   49    0        4           130          269                    0   \n",
              "30     53    1        3           145          518                    0   \n",
              "452    64    1        4           144            0                    0   \n",
              "658    62    0        4           124          209                    0   \n",
              "903    48    1        2           110          229                    0   \n",
              "...   ...  ...      ...           ...          ...                  ...   \n",
              "733    46    1        4           120          249                    0   \n",
              "1180   63    1        4           140          187                    0   \n",
              "1147   44    0        3           118          242                    0   \n",
              "527    65    1        4           144          312                    0   \n",
              "1149   60    0        1           150          240                    0   \n",
              "\n",
              "      resting ecg  max heart rate  exercise angina  oldpeak  ST slope  \n",
              "1129            0             163                0      0.0         1  \n",
              "30              0             130                0      0.0         2  \n",
              "452             1             122                1      1.0         2  \n",
              "658             0             163                0      0.0         1  \n",
              "903             0             168                0      1.0         3  \n",
              "...           ...             ...              ...      ...       ...  \n",
              "733             2             144                0      0.8         1  \n",
              "1180            2             144                1      4.0         1  \n",
              "1147            0             149                0      0.3         2  \n",
              "527             2             113                1      1.7         2  \n",
              "1149            0             171                0      0.9         1  \n",
              "\n",
              "[952 rows x 11 columns]"
            ],
            "text/html": [
              "\n",
              "  <div id=\"df-04c495fc-f2bc-4d3b-b1cf-8a37dafede50\">\n",
              "    <div class=\"colab-df-container\">\n",
              "      <div>\n",
              "<style scoped>\n",
              "    .dataframe tbody tr th:only-of-type {\n",
              "        vertical-align: middle;\n",
              "    }\n",
              "\n",
              "    .dataframe tbody tr th {\n",
              "        vertical-align: top;\n",
              "    }\n",
              "\n",
              "    .dataframe thead th {\n",
              "        text-align: right;\n",
              "    }\n",
              "</style>\n",
              "<table border=\"1\" class=\"dataframe\">\n",
              "  <thead>\n",
              "    <tr style=\"text-align: right;\">\n",
              "      <th></th>\n",
              "      <th>age</th>\n",
              "      <th>sex</th>\n",
              "      <th>cp_type</th>\n",
              "      <th>resting bp s</th>\n",
              "      <th>cholesterol</th>\n",
              "      <th>fasting blood sugar</th>\n",
              "      <th>resting ecg</th>\n",
              "      <th>max heart rate</th>\n",
              "      <th>exercise angina</th>\n",
              "      <th>oldpeak</th>\n",
              "      <th>ST slope</th>\n",
              "    </tr>\n",
              "  </thead>\n",
              "  <tbody>\n",
              "    <tr>\n",
              "      <th>1129</th>\n",
              "      <td>49</td>\n",
              "      <td>0</td>\n",
              "      <td>4</td>\n",
              "      <td>130</td>\n",
              "      <td>269</td>\n",
              "      <td>0</td>\n",
              "      <td>0</td>\n",
              "      <td>163</td>\n",
              "      <td>0</td>\n",
              "      <td>0.0</td>\n",
              "      <td>1</td>\n",
              "    </tr>\n",
              "    <tr>\n",
              "      <th>30</th>\n",
              "      <td>53</td>\n",
              "      <td>1</td>\n",
              "      <td>3</td>\n",
              "      <td>145</td>\n",
              "      <td>518</td>\n",
              "      <td>0</td>\n",
              "      <td>0</td>\n",
              "      <td>130</td>\n",
              "      <td>0</td>\n",
              "      <td>0.0</td>\n",
              "      <td>2</td>\n",
              "    </tr>\n",
              "    <tr>\n",
              "      <th>452</th>\n",
              "      <td>64</td>\n",
              "      <td>1</td>\n",
              "      <td>4</td>\n",
              "      <td>144</td>\n",
              "      <td>0</td>\n",
              "      <td>0</td>\n",
              "      <td>1</td>\n",
              "      <td>122</td>\n",
              "      <td>1</td>\n",
              "      <td>1.0</td>\n",
              "      <td>2</td>\n",
              "    </tr>\n",
              "    <tr>\n",
              "      <th>658</th>\n",
              "      <td>62</td>\n",
              "      <td>0</td>\n",
              "      <td>4</td>\n",
              "      <td>124</td>\n",
              "      <td>209</td>\n",
              "      <td>0</td>\n",
              "      <td>0</td>\n",
              "      <td>163</td>\n",
              "      <td>0</td>\n",
              "      <td>0.0</td>\n",
              "      <td>1</td>\n",
              "    </tr>\n",
              "    <tr>\n",
              "      <th>903</th>\n",
              "      <td>48</td>\n",
              "      <td>1</td>\n",
              "      <td>2</td>\n",
              "      <td>110</td>\n",
              "      <td>229</td>\n",
              "      <td>0</td>\n",
              "      <td>0</td>\n",
              "      <td>168</td>\n",
              "      <td>0</td>\n",
              "      <td>1.0</td>\n",
              "      <td>3</td>\n",
              "    </tr>\n",
              "    <tr>\n",
              "      <th>...</th>\n",
              "      <td>...</td>\n",
              "      <td>...</td>\n",
              "      <td>...</td>\n",
              "      <td>...</td>\n",
              "      <td>...</td>\n",
              "      <td>...</td>\n",
              "      <td>...</td>\n",
              "      <td>...</td>\n",
              "      <td>...</td>\n",
              "      <td>...</td>\n",
              "      <td>...</td>\n",
              "    </tr>\n",
              "    <tr>\n",
              "      <th>733</th>\n",
              "      <td>46</td>\n",
              "      <td>1</td>\n",
              "      <td>4</td>\n",
              "      <td>120</td>\n",
              "      <td>249</td>\n",
              "      <td>0</td>\n",
              "      <td>2</td>\n",
              "      <td>144</td>\n",
              "      <td>0</td>\n",
              "      <td>0.8</td>\n",
              "      <td>1</td>\n",
              "    </tr>\n",
              "    <tr>\n",
              "      <th>1180</th>\n",
              "      <td>63</td>\n",
              "      <td>1</td>\n",
              "      <td>4</td>\n",
              "      <td>140</td>\n",
              "      <td>187</td>\n",
              "      <td>0</td>\n",
              "      <td>2</td>\n",
              "      <td>144</td>\n",
              "      <td>1</td>\n",
              "      <td>4.0</td>\n",
              "      <td>1</td>\n",
              "    </tr>\n",
              "    <tr>\n",
              "      <th>1147</th>\n",
              "      <td>44</td>\n",
              "      <td>0</td>\n",
              "      <td>3</td>\n",
              "      <td>118</td>\n",
              "      <td>242</td>\n",
              "      <td>0</td>\n",
              "      <td>0</td>\n",
              "      <td>149</td>\n",
              "      <td>0</td>\n",
              "      <td>0.3</td>\n",
              "      <td>2</td>\n",
              "    </tr>\n",
              "    <tr>\n",
              "      <th>527</th>\n",
              "      <td>65</td>\n",
              "      <td>1</td>\n",
              "      <td>4</td>\n",
              "      <td>144</td>\n",
              "      <td>312</td>\n",
              "      <td>0</td>\n",
              "      <td>2</td>\n",
              "      <td>113</td>\n",
              "      <td>1</td>\n",
              "      <td>1.7</td>\n",
              "      <td>2</td>\n",
              "    </tr>\n",
              "    <tr>\n",
              "      <th>1149</th>\n",
              "      <td>60</td>\n",
              "      <td>0</td>\n",
              "      <td>1</td>\n",
              "      <td>150</td>\n",
              "      <td>240</td>\n",
              "      <td>0</td>\n",
              "      <td>0</td>\n",
              "      <td>171</td>\n",
              "      <td>0</td>\n",
              "      <td>0.9</td>\n",
              "      <td>1</td>\n",
              "    </tr>\n",
              "  </tbody>\n",
              "</table>\n",
              "<p>952 rows × 11 columns</p>\n",
              "</div>\n",
              "      <button class=\"colab-df-convert\" onclick=\"convertToInteractive('df-04c495fc-f2bc-4d3b-b1cf-8a37dafede50')\"\n",
              "              title=\"Convert this dataframe to an interactive table.\"\n",
              "              style=\"display:none;\">\n",
              "        \n",
              "  <svg xmlns=\"http://www.w3.org/2000/svg\" height=\"24px\"viewBox=\"0 0 24 24\"\n",
              "       width=\"24px\">\n",
              "    <path d=\"M0 0h24v24H0V0z\" fill=\"none\"/>\n",
              "    <path d=\"M18.56 5.44l.94 2.06.94-2.06 2.06-.94-2.06-.94-.94-2.06-.94 2.06-2.06.94zm-11 1L8.5 8.5l.94-2.06 2.06-.94-2.06-.94L8.5 2.5l-.94 2.06-2.06.94zm10 10l.94 2.06.94-2.06 2.06-.94-2.06-.94-.94-2.06-.94 2.06-2.06.94z\"/><path d=\"M17.41 7.96l-1.37-1.37c-.4-.4-.92-.59-1.43-.59-.52 0-1.04.2-1.43.59L10.3 9.45l-7.72 7.72c-.78.78-.78 2.05 0 2.83L4 21.41c.39.39.9.59 1.41.59.51 0 1.02-.2 1.41-.59l7.78-7.78 2.81-2.81c.8-.78.8-2.07 0-2.86zM5.41 20L4 18.59l7.72-7.72 1.47 1.35L5.41 20z\"/>\n",
              "  </svg>\n",
              "      </button>\n",
              "      \n",
              "  <style>\n",
              "    .colab-df-container {\n",
              "      display:flex;\n",
              "      flex-wrap:wrap;\n",
              "      gap: 12px;\n",
              "    }\n",
              "\n",
              "    .colab-df-convert {\n",
              "      background-color: #E8F0FE;\n",
              "      border: none;\n",
              "      border-radius: 50%;\n",
              "      cursor: pointer;\n",
              "      display: none;\n",
              "      fill: #1967D2;\n",
              "      height: 32px;\n",
              "      padding: 0 0 0 0;\n",
              "      width: 32px;\n",
              "    }\n",
              "\n",
              "    .colab-df-convert:hover {\n",
              "      background-color: #E2EBFA;\n",
              "      box-shadow: 0px 1px 2px rgba(60, 64, 67, 0.3), 0px 1px 3px 1px rgba(60, 64, 67, 0.15);\n",
              "      fill: #174EA6;\n",
              "    }\n",
              "\n",
              "    [theme=dark] .colab-df-convert {\n",
              "      background-color: #3B4455;\n",
              "      fill: #D2E3FC;\n",
              "    }\n",
              "\n",
              "    [theme=dark] .colab-df-convert:hover {\n",
              "      background-color: #434B5C;\n",
              "      box-shadow: 0px 1px 3px 1px rgba(0, 0, 0, 0.15);\n",
              "      filter: drop-shadow(0px 1px 2px rgba(0, 0, 0, 0.3));\n",
              "      fill: #FFFFFF;\n",
              "    }\n",
              "  </style>\n",
              "\n",
              "      <script>\n",
              "        const buttonEl =\n",
              "          document.querySelector('#df-04c495fc-f2bc-4d3b-b1cf-8a37dafede50 button.colab-df-convert');\n",
              "        buttonEl.style.display =\n",
              "          google.colab.kernel.accessAllowed ? 'block' : 'none';\n",
              "\n",
              "        async function convertToInteractive(key) {\n",
              "          const element = document.querySelector('#df-04c495fc-f2bc-4d3b-b1cf-8a37dafede50');\n",
              "          const dataTable =\n",
              "            await google.colab.kernel.invokeFunction('convertToInteractive',\n",
              "                                                     [key], {});\n",
              "          if (!dataTable) return;\n",
              "\n",
              "          const docLinkHtml = 'Like what you see? Visit the ' +\n",
              "            '<a target=\"_blank\" href=https://colab.research.google.com/notebooks/data_table.ipynb>data table notebook</a>'\n",
              "            + ' to learn more about interactive tables.';\n",
              "          element.innerHTML = '';\n",
              "          dataTable['output_type'] = 'display_data';\n",
              "          await google.colab.output.renderOutput(dataTable, element);\n",
              "          const docLink = document.createElement('div');\n",
              "          docLink.innerHTML = docLinkHtml;\n",
              "          element.appendChild(docLink);\n",
              "        }\n",
              "      </script>\n",
              "    </div>\n",
              "  </div>\n",
              "  "
            ]
          },
          "metadata": {},
          "execution_count": 18
        }
      ],
      "source": [
        "xtrain"
      ]
    },
    {
      "cell_type": "markdown",
      "source": [
        "ANN\n"
      ],
      "metadata": {
        "id": "pOwlq_RzFxoT"
      }
    },
    {
      "cell_type": "code",
      "execution_count": null,
      "metadata": {
        "id": "FCa-jfHngObw"
      },
      "outputs": [],
      "source": [
        "from sklearn.preprocessing import StandardScaler\n",
        "scaler = StandardScaler()"
      ]
    },
    {
      "cell_type": "code",
      "execution_count": null,
      "metadata": {
        "id": "5mo2rBSngOeX"
      },
      "outputs": [],
      "source": [
        "scaler.fit(xtrain)\n",
        "x_train = scaler.transform(xtrain)\n",
        "x_test = scaler.transform(xtest)"
      ]
    },
    {
      "cell_type": "code",
      "source": [
        "x_train"
      ],
      "metadata": {
        "colab": {
          "base_uri": "https://localhost:8080/"
        },
        "id": "lY04QJ5ZGCNS",
        "outputId": "2dbba56b-481e-4628-9cca-0d9bcb6d74a6"
      },
      "execution_count": null,
      "outputs": [
        {
          "output_type": "execute_result",
          "data": {
            "text/plain": [
              "array([[-0.49745738, -1.77175914,  0.82157595, ..., -0.8008616 ,\n",
              "        -0.84655301, -1.00477486],\n",
              "       [-0.06819889,  0.5644108 , -0.24111468, ..., -0.8008616 ,\n",
              "        -0.84655301,  0.62755563],\n",
              "       [ 1.11226195,  0.5644108 ,  0.82157595, ...,  1.24865519,\n",
              "         0.0699925 ,  0.62755563],\n",
              "       ...,\n",
              "       [-1.03403049, -1.77175914, -0.24111468, ..., -0.8008616 ,\n",
              "        -0.57158936,  0.62755563],\n",
              "       [ 1.21957657,  0.5644108 ,  0.82157595, ...,  1.24865519,\n",
              "         0.71157436,  0.62755563],\n",
              "       [ 0.68300346, -1.77175914, -2.36649594, ..., -0.8008616 ,\n",
              "        -0.02166205, -1.00477486]])"
            ]
          },
          "metadata": {},
          "execution_count": 48
        }
      ]
    },
    {
      "cell_type": "code",
      "source": [
        "x_test"
      ],
      "metadata": {
        "colab": {
          "base_uri": "https://localhost:8080/"
        },
        "id": "mU4DiMz5GDbI",
        "outputId": "b6f47b8b-9226-42c7-d863-151427023ff1"
      },
      "execution_count": null,
      "outputs": [
        {
          "output_type": "execute_result",
          "data": {
            "text/plain": [
              "array([[-0.06819889,  0.5644108 ,  0.82157595, ...,  1.24865519,\n",
              "         1.99473807,  2.25988613],\n",
              "       [ 1.11226195,  0.5644108 ,  0.82157595, ...,  1.24865519,\n",
              "         1.16984711,  2.25988613],\n",
              "       [-1.35597436, -1.77175914, -1.30380531, ..., -0.8008616 ,\n",
              "        -0.84655301, -1.00477486],\n",
              "       ...,\n",
              "       [ 0.46837422,  0.5644108 , -0.24111468, ..., -0.8008616 ,\n",
              "         2.08639262, -1.00477486],\n",
              "       [ 0.36105959,  0.5644108 ,  0.82157595, ...,  1.24865519,\n",
              "         0.98653801,  0.62755563],\n",
              "       [ 0.25374497,  0.5644108 , -0.24111468, ...,  1.24865519,\n",
              "        -0.29662571,  0.62755563]])"
            ]
          },
          "metadata": {},
          "execution_count": 49
        }
      ]
    },
    {
      "cell_type": "code",
      "source": [
        "!pip install keras"
      ],
      "metadata": {
        "colab": {
          "base_uri": "https://localhost:8080/"
        },
        "id": "QR5Am3y0GJ-z",
        "outputId": "f1616fc7-d3b4-42c8-c16f-fa14807ab2b4"
      },
      "execution_count": null,
      "outputs": [
        {
          "output_type": "stream",
          "name": "stdout",
          "text": [
            "Looking in indexes: https://pypi.org/simple, https://us-python.pkg.dev/colab-wheels/public/simple/\n",
            "Requirement already satisfied: keras in /usr/local/lib/python3.7/dist-packages (2.8.0)\n"
          ]
        }
      ]
    },
    {
      "cell_type": "code",
      "source": [
        "from tensorflow import keras\n",
        "from keras.models import Sequential\n",
        "from keras.layers import Dense,Dropout\n",
        "from tensorflow.keras import optimizers\n",
        "from tensorflow.keras.optimizers import Adam ,SGD\n",
        "from tensorflow.keras.utils import to_categorical"
      ],
      "metadata": {
        "id": "kusuDsQCGKH1"
      },
      "execution_count": null,
      "outputs": []
    },
    {
      "cell_type": "code",
      "source": [
        "y_train = to_categorical(ytrain, 2)\n",
        "y_test = to_categorical(ytest, 2)"
      ],
      "metadata": {
        "id": "vPg4zAiOGKLU"
      },
      "execution_count": null,
      "outputs": []
    },
    {
      "cell_type": "code",
      "source": [
        "model = Sequential()"
      ],
      "metadata": {
        "id": "qRs5YwXeGbtD"
      },
      "execution_count": null,
      "outputs": []
    },
    {
      "cell_type": "code",
      "source": [
        "model.add(Dense(128,input_dim=11,kernel_initializer='normal',activation='relu'))#input layer\n",
        "model.add(Dropout(0.5))\n",
        "model.add(Dense(17,kernel_initializer='normal',activation='relu'))\n",
        "model.add(Dropout(0.5))\n",
        "model.add(Dense(16,kernel_initializer='normal',activation='relu'))\n",
        "model.add(Dropout(0.5))\n",
        "model.add(Dense(15,kernel_initializer='normal',activation='relu'))\n",
        "model.add(Dropout(0.5))\n",
        "model.add(Dense(2,activation='softmax'))#output layer\n",
        "model.compile(optimizer=\"Adam\",\n",
        "              loss='categorical_crossentropy',\n",
        "              metrics=['accuracy'])"
      ],
      "metadata": {
        "id": "joSG_X8VGlev"
      },
      "execution_count": null,
      "outputs": []
    },
    {
      "cell_type": "code",
      "execution_count": null,
      "metadata": {
        "colab": {
          "base_uri": "https://localhost:8080/"
        },
        "id": "K7xmePJEgOmT",
        "outputId": "4d54c82d-7849-4cae-d9bf-1ac4555ddb7a"
      },
      "outputs": [
        {
          "output_type": "stream",
          "name": "stdout",
          "text": [
            "Model: \"sequential\"\n",
            "_________________________________________________________________\n",
            " Layer (type)                Output Shape              Param #   \n",
            "=================================================================\n",
            " dense (Dense)               (None, 128)               1536      \n",
            "                                                                 \n",
            " dropout (Dropout)           (None, 128)               0         \n",
            "                                                                 \n",
            " dense_1 (Dense)             (None, 17)                2193      \n",
            "                                                                 \n",
            " dropout_1 (Dropout)         (None, 17)                0         \n",
            "                                                                 \n",
            " dense_2 (Dense)             (None, 16)                288       \n",
            "                                                                 \n",
            " dropout_2 (Dropout)         (None, 16)                0         \n",
            "                                                                 \n",
            " dense_3 (Dense)             (None, 15)                255       \n",
            "                                                                 \n",
            " dropout_3 (Dropout)         (None, 15)                0         \n",
            "                                                                 \n",
            " dense_4 (Dense)             (None, 2)                 32        \n",
            "                                                                 \n",
            "=================================================================\n",
            "Total params: 4,304\n",
            "Trainable params: 4,304\n",
            "Non-trainable params: 0\n",
            "_________________________________________________________________\n"
          ]
        }
      ],
      "source": [
        "model.summary()"
      ]
    },
    {
      "cell_type": "code",
      "execution_count": null,
      "metadata": {
        "colab": {
          "base_uri": "https://localhost:8080/"
        },
        "id": "4CuxCJkvgOpI",
        "outputId": "0274e967-9f35-4c25-9161-4337202d2cd5"
      },
      "outputs": [
        {
          "output_type": "stream",
          "name": "stdout",
          "text": [
            "Epoch 1/25\n",
            "24/24 [==============================] - 2s 24ms/step - loss: 0.6927 - accuracy: 0.5375 - val_loss: 0.6918 - val_accuracy: 0.5236\n",
            "Epoch 2/25\n",
            "24/24 [==============================] - 0s 6ms/step - loss: 0.6910 - accuracy: 0.5703 - val_loss: 0.6863 - val_accuracy: 0.5602\n",
            "Epoch 3/25\n",
            "24/24 [==============================] - 0s 8ms/step - loss: 0.6763 - accuracy: 0.6873 - val_loss: 0.6498 - val_accuracy: 0.8010\n",
            "Epoch 4/25\n",
            "24/24 [==============================] - 0s 6ms/step - loss: 0.6078 - accuracy: 0.7622 - val_loss: 0.5236 - val_accuracy: 0.8063\n",
            "Epoch 5/25\n",
            "24/24 [==============================] - 0s 5ms/step - loss: 0.5232 - accuracy: 0.8068 - val_loss: 0.4526 - val_accuracy: 0.8010\n",
            "Epoch 6/25\n",
            "24/24 [==============================] - 0s 5ms/step - loss: 0.4736 - accuracy: 0.8213 - val_loss: 0.4368 - val_accuracy: 0.7958\n",
            "Epoch 7/25\n",
            "24/24 [==============================] - 0s 6ms/step - loss: 0.4560 - accuracy: 0.8331 - val_loss: 0.4336 - val_accuracy: 0.8115\n",
            "Epoch 8/25\n",
            "24/24 [==============================] - 0s 6ms/step - loss: 0.4742 - accuracy: 0.8200 - val_loss: 0.4293 - val_accuracy: 0.8063\n",
            "Epoch 9/25\n",
            "24/24 [==============================] - 0s 5ms/step - loss: 0.4455 - accuracy: 0.8344 - val_loss: 0.4264 - val_accuracy: 0.8115\n",
            "Epoch 10/25\n",
            "24/24 [==============================] - 0s 4ms/step - loss: 0.4563 - accuracy: 0.8397 - val_loss: 0.4251 - val_accuracy: 0.8115\n",
            "Epoch 11/25\n",
            "24/24 [==============================] - 0s 4ms/step - loss: 0.4228 - accuracy: 0.8423 - val_loss: 0.4284 - val_accuracy: 0.8168\n",
            "Epoch 12/25\n",
            "24/24 [==============================] - 0s 4ms/step - loss: 0.4415 - accuracy: 0.8449 - val_loss: 0.4212 - val_accuracy: 0.8115\n",
            "Epoch 13/25\n",
            "24/24 [==============================] - 0s 3ms/step - loss: 0.4306 - accuracy: 0.8449 - val_loss: 0.4165 - val_accuracy: 0.8115\n",
            "Epoch 14/25\n",
            "24/24 [==============================] - 0s 3ms/step - loss: 0.4060 - accuracy: 0.8555 - val_loss: 0.4136 - val_accuracy: 0.8220\n",
            "Epoch 15/25\n",
            "24/24 [==============================] - 0s 4ms/step - loss: 0.4286 - accuracy: 0.8541 - val_loss: 0.4110 - val_accuracy: 0.8377\n",
            "Epoch 16/25\n",
            "24/24 [==============================] - 0s 4ms/step - loss: 0.4256 - accuracy: 0.8555 - val_loss: 0.4059 - val_accuracy: 0.8272\n",
            "Epoch 17/25\n",
            "24/24 [==============================] - 0s 4ms/step - loss: 0.3970 - accuracy: 0.8581 - val_loss: 0.4057 - val_accuracy: 0.8377\n",
            "Epoch 18/25\n",
            "24/24 [==============================] - 0s 4ms/step - loss: 0.4100 - accuracy: 0.8476 - val_loss: 0.4094 - val_accuracy: 0.8272\n",
            "Epoch 19/25\n",
            "24/24 [==============================] - 0s 3ms/step - loss: 0.3938 - accuracy: 0.8594 - val_loss: 0.4063 - val_accuracy: 0.8377\n",
            "Epoch 20/25\n",
            "24/24 [==============================] - 0s 4ms/step - loss: 0.4063 - accuracy: 0.8660 - val_loss: 0.4045 - val_accuracy: 0.8429\n",
            "Epoch 21/25\n",
            "24/24 [==============================] - 0s 4ms/step - loss: 0.3829 - accuracy: 0.8594 - val_loss: 0.4049 - val_accuracy: 0.8482\n",
            "Epoch 22/25\n",
            "24/24 [==============================] - 0s 3ms/step - loss: 0.3867 - accuracy: 0.8620 - val_loss: 0.4063 - val_accuracy: 0.8377\n",
            "Epoch 23/25\n",
            "24/24 [==============================] - 0s 3ms/step - loss: 0.4152 - accuracy: 0.8515 - val_loss: 0.4059 - val_accuracy: 0.8429\n",
            "Epoch 24/25\n",
            "24/24 [==============================] - 0s 3ms/step - loss: 0.3685 - accuracy: 0.8778 - val_loss: 0.4024 - val_accuracy: 0.8482\n",
            "Epoch 25/25\n",
            "24/24 [==============================] - 0s 4ms/step - loss: 0.3836 - accuracy: 0.8673 - val_loss: 0.4028 - val_accuracy: 0.8429\n"
          ]
        },
        {
          "output_type": "execute_result",
          "data": {
            "text/plain": [
              "<keras.callbacks.History at 0x7f58066c28d0>"
            ]
          },
          "metadata": {},
          "execution_count": 56
        }
      ],
      "source": [
        "model.fit(x_train,y_train,validation_split=0.2,epochs=25)"
      ]
    },
    {
      "cell_type": "code",
      "source": [
        "y_pred = model.predict(x_test)\n",
        "ytest_class = np.argmax(y_test,axis=1)\n",
        "y_pred_class = np.argmax(y_pred,axis=1)"
      ],
      "metadata": {
        "id": "Ey8IKfxWG7iG"
      },
      "execution_count": null,
      "outputs": []
    },
    {
      "cell_type": "code",
      "source": [
        "from sklearn.metrics import classification_report\n",
        "print(classification_report(ytest_class,y_pred_class))"
      ],
      "metadata": {
        "colab": {
          "base_uri": "https://localhost:8080/"
        },
        "id": "ATR5lSWkG7vN",
        "outputId": "9d075fea-0f4f-4209-9282-ee099e0860aa"
      },
      "execution_count": null,
      "outputs": [
        {
          "output_type": "stream",
          "name": "stdout",
          "text": [
            "              precision    recall  f1-score   support\n",
            "\n",
            "           0       0.84      0.89      0.87       104\n",
            "           1       0.91      0.87      0.89       134\n",
            "\n",
            "    accuracy                           0.88       238\n",
            "   macro avg       0.88      0.88      0.88       238\n",
            "weighted avg       0.88      0.88      0.88       238\n",
            "\n"
          ]
        }
      ]
    },
    {
      "cell_type": "markdown",
      "metadata": {
        "id": "AuUw4biMQgKw"
      },
      "source": [
        "**KNN**"
      ]
    },
    {
      "cell_type": "code",
      "execution_count": null,
      "metadata": {
        "colab": {
          "base_uri": "https://localhost:8080/"
        },
        "id": "N9JVyefHqtkU",
        "outputId": "ec3be861-4c64-4263-fff8-fd25f0cd090e"
      },
      "outputs": [
        {
          "output_type": "stream",
          "name": "stdout",
          "text": [
            "              precision    recall  f1-score   support\n",
            "\n",
            "           0       0.77      0.82      0.79       104\n",
            "           1       0.85      0.81      0.83       134\n",
            "\n",
            "    accuracy                           0.81       238\n",
            "   macro avg       0.81      0.81      0.81       238\n",
            "weighted avg       0.81      0.81      0.81       238\n",
            "\n"
          ]
        }
      ],
      "source": [
        "from sklearn.metrics import classification_report\n",
        "from sklearn.neighbors import KNeighborsClassifier\n",
        "model1 = KNeighborsClassifier(n_neighbors=1)\n",
        "model1.fit(xtrain, ytrain) #train model\n",
        "y_pred1 = model1.predict(xtest)\n",
        "print(classification_report(ytest, y_pred1))"
      ]
    },
    {
      "cell_type": "code",
      "execution_count": null,
      "metadata": {
        "colab": {
          "base_uri": "https://localhost:8080/"
        },
        "id": "urp553eXyKQY",
        "outputId": "06f797d3-c67e-492c-e345-7b2d9225ac76"
      },
      "outputs": [
        {
          "output_type": "execute_result",
          "data": {
            "text/plain": [
              "cholesterol            0.396639\n",
              "max heart rate         0.362815\n",
              "resting bp s           0.260084\n",
              "age                    0.190756\n",
              "cp_type                0.000420\n",
              "sex                    0.000000\n",
              "fasting blood sugar    0.000000\n",
              "resting ecg            0.000000\n",
              "exercise angina        0.000000\n",
              "oldpeak                0.000000\n",
              "ST slope               0.000000\n",
              "dtype: float64"
            ]
          },
          "metadata": {},
          "execution_count": 25
        }
      ],
      "source": [
        "from sklearn.inspection import permutation_importance\n",
        "# perform permutation importance\n",
        "results = permutation_importance(model1, xtrain,ytrain, scoring='accuracy')\n",
        "# get importance\n",
        "importance1 = results.importances_mean\n",
        "df1=pd.Series(importance1)\n",
        "df1.index=x.columns\n",
        "df1.sort_values(ascending=False)"
      ]
    },
    {
      "cell_type": "code",
      "execution_count": null,
      "metadata": {
        "colab": {
          "base_uri": "https://localhost:8080/",
          "height": 586
        },
        "id": "vkukhABlyrsd",
        "outputId": "7ab47b4a-72cb-4c30-cfd0-9ff6bd349007"
      },
      "outputs": [
        {
          "output_type": "execute_result",
          "data": {
            "text/plain": [
              "<matplotlib.axes._subplots.AxesSubplot at 0x7f5881adb850>"
            ]
          },
          "metadata": {},
          "execution_count": 26
        },
        {
          "output_type": "display_data",
          "data": {
            "text/plain": [
              "<Figure size 1440x576 with 1 Axes>"
            ],
            "image/png": "[encoded data removed]"
          },
          "metadata": {
            "needs_background": "light"
          }
        }
      ],
      "source": [
        "df1.sort_values(ascending=False).plot.bar(figsize=(20,8))"
      ]
    },
    {
      "cell_type": "markdown",
      "metadata": {
        "id": "rVrvGfseQbAW"
      },
      "source": [
        "**LogisticRegression**"
      ]
    },
    {
      "cell_type": "code",
      "execution_count": null,
      "metadata": {
        "colab": {
          "base_uri": "https://localhost:8080/"
        },
        "id": "y5lMhYhMqtnZ",
        "outputId": "76d00921-01bc-4292-bcd0-4e8d6c16ac50"
      },
      "outputs": [
        {
          "output_type": "stream",
          "name": "stdout",
          "text": [
            "              precision    recall  f1-score   support\n",
            "\n",
            "           0       0.78      0.88      0.83       104\n",
            "           1       0.89      0.81      0.85       134\n",
            "\n",
            "    accuracy                           0.84       238\n",
            "   macro avg       0.84      0.84      0.84       238\n",
            "weighted avg       0.85      0.84      0.84       238\n",
            "\n"
          ]
        },
        {
          "output_type": "stream",
          "name": "stderr",
          "text": [
            "/usr/local/lib/python3.7/dist-packages/sklearn/linear_model/_logistic.py:818: ConvergenceWarning: lbfgs failed to converge (status=1):\n",
            "STOP: TOTAL NO. of ITERATIONS REACHED LIMIT.\n",
            "\n",
            "Increase the number of iterations (max_iter) or scale the data as shown in:\n",
            "    https://scikit-learn.org/stable/modules/preprocessing.html\n",
            "Please also refer to the documentation for alternative solver options:\n",
            "    https://scikit-learn.org/stable/modules/linear_model.html#logistic-regression\n",
            "  extra_warning_msg=_LOGISTIC_SOLVER_CONVERGENCE_MSG,\n"
          ]
        }
      ],
      "source": [
        "from sklearn.metrics import classification_report\n",
        "from sklearn.linear_model import LogisticRegression\n",
        "model2 = LogisticRegression(random_state=4)\n",
        "model2.fit(xtrain, ytrain) #train model\n",
        "y_pred2 = model2.predict(xtest)\n",
        "print(classification_report(ytest, y_pred2)) #accuracy"
      ]
    },
    {
      "cell_type": "code",
      "execution_count": null,
      "metadata": {
        "colab": {
          "base_uri": "https://localhost:8080/"
        },
        "id": "FORqt4fJriif",
        "outputId": "84b4fd17-49dd-46e6-9251-330a0270daca"
      },
      "outputs": [
        {
          "output_type": "execute_result",
          "data": {
            "text/plain": [
              "sex                    1.185529\n",
              "exercise angina        0.983559\n",
              "ST slope               0.883041\n",
              "fasting blood sugar    0.656109\n",
              "cp_type                0.610677\n",
              "oldpeak                0.402900\n",
              "resting ecg            0.141143\n",
              "cholesterol           -0.002273\n",
              "resting bp s          -0.005590\n",
              "age                   -0.006349\n",
              "max heart rate        -0.023699\n",
              "dtype: float64"
            ]
          },
          "metadata": {},
          "execution_count": 28
        }
      ],
      "source": [
        "\n",
        "df2=pd.Series(model2.coef_[0])\n",
        "df2.index=x.columns\n",
        "df2.sort_values(ascending=False)"
      ]
    },
    {
      "cell_type": "code",
      "execution_count": null,
      "metadata": {
        "colab": {
          "base_uri": "https://localhost:8080/",
          "height": 586
        },
        "id": "CyuvrPtor-rY",
        "outputId": "fc455887-71ee-4494-9bfe-98a2ab790190"
      },
      "outputs": [
        {
          "output_type": "execute_result",
          "data": {
            "text/plain": [
              "<matplotlib.axes._subplots.AxesSubplot at 0x7f587f23d5d0>"
            ]
          },
          "metadata": {},
          "execution_count": 29
        },
        {
          "output_type": "display_data",
          "data": {
            "text/plain": [
              "<Figure size 1440x576 with 1 Axes>"
            ],
            "image/png": "[encoded data removed]"
          },
          "metadata": {
            "needs_background": "light"
          }
        }
      ],
      "source": [
        "df2.sort_values(ascending=False).plot.bar(figsize=(20,8))"
      ]
    },
    {
      "cell_type": "markdown",
      "metadata": {
        "id": "YBcFMpsZQVNX"
      },
      "source": [
        "**RandomForestClassifier**"
      ]
    },
    {
      "cell_type": "code",
      "execution_count": null,
      "metadata": {
        "colab": {
          "base_uri": "https://localhost:8080/"
        },
        "id": "jo-8rERcqtqY",
        "outputId": "a67794fb-7f18-4f95-d841-6c0a888ffaa2"
      },
      "outputs": [
        {
          "output_type": "stream",
          "name": "stdout",
          "text": [
            "              precision    recall  f1-score   support\n",
            "\n",
            "           0       0.90      0.94      0.92       104\n",
            "           1       0.95      0.92      0.94       134\n",
            "\n",
            "    accuracy                           0.93       238\n",
            "   macro avg       0.93      0.93      0.93       238\n",
            "weighted avg       0.93      0.93      0.93       238\n",
            "\n"
          ]
        }
      ],
      "source": [
        "from sklearn.metrics import classification_report\n",
        "from sklearn.ensemble import RandomForestClassifier\n",
        "model3 = RandomForestClassifier(random_state=4)\n",
        "model3.fit(xtrain, ytrain) #train model\n",
        "y_pred3 = model3.predict(xtest)\n",
        "print(classification_report(ytest, y_pred3)) #accuracy"
      ]
    },
    {
      "cell_type": "code",
      "source": [
        "df3=pd.Series(model3.feature_importances_)\n",
        "df3.index=x.columns\n",
        "df3.sort_values(ascending=False)"
      ],
      "metadata": {
        "colab": {
          "base_uri": "https://localhost:8080/"
        },
        "id": "gkC0yakyhAl7",
        "outputId": "8404ef36-25e7-493b-d961-fe6ff46b6ebf"
      },
      "execution_count": null,
      "outputs": [
        {
          "output_type": "execute_result",
          "data": {
            "text/plain": [
              "ST slope               0.186778\n",
              "cp_type                0.146137\n",
              "max heart rate         0.137513\n",
              "oldpeak                0.102019\n",
              "cholesterol            0.097875\n",
              "age                    0.086943\n",
              "resting bp s           0.084063\n",
              "exercise angina        0.065693\n",
              "sex                    0.046006\n",
              "resting ecg            0.028024\n",
              "fasting blood sugar    0.018950\n",
              "dtype: float64"
            ]
          },
          "metadata": {},
          "execution_count": 31
        }
      ]
    },
    {
      "cell_type": "code",
      "execution_count": null,
      "metadata": {
        "colab": {
          "base_uri": "https://localhost:8080/",
          "height": 586
        },
        "id": "rdTZP9OWij9v",
        "outputId": "2c590bfd-617d-4d4a-f545-641340c46b92"
      },
      "outputs": [
        {
          "output_type": "execute_result",
          "data": {
            "text/plain": [
              "<matplotlib.axes._subplots.AxesSubplot at 0x7f587f201450>"
            ]
          },
          "metadata": {},
          "execution_count": 32
        },
        {
          "output_type": "display_data",
          "data": {
            "text/plain": [
              "<Figure size 1440x576 with 1 Axes>"
            ],
            "image/png": "[encoded data removed]"
          },
          "metadata": {
            "needs_background": "light"
          }
        }
      ],
      "source": [
        "df3.sort_values(ascending=False).plot.bar(figsize=(20,8))"
      ]
    },
    {
      "cell_type": "markdown",
      "metadata": {
        "id": "5HZaiDsOQRT_"
      },
      "source": [
        "**SVM**"
      ]
    },
    {
      "cell_type": "code",
      "execution_count": null,
      "metadata": {
        "colab": {
          "base_uri": "https://localhost:8080/"
        },
        "id": "LmBzvtzTqttk",
        "outputId": "972a995e-1d96-4cc1-ad45-6449c2eb80f2"
      },
      "outputs": [
        {
          "output_type": "stream",
          "name": "stdout",
          "text": [
            "              precision    recall  f1-score   support\n",
            "\n",
            "           0       0.83      0.88      0.85       104\n",
            "           1       0.90      0.86      0.88       134\n",
            "\n",
            "    accuracy                           0.87       238\n",
            "   macro avg       0.86      0.87      0.86       238\n",
            "weighted avg       0.87      0.87      0.87       238\n",
            "\n"
          ]
        }
      ],
      "source": [
        "from sklearn.metrics import classification_report\n",
        "from sklearn import svm\n",
        "model4 = svm.SVC(kernel = 'linear',gamma='auto',C=2)\n",
        "model4.fit(xtrain, ytrain) #train model\n",
        "y_pred4 = model4.predict(xtest)\n",
        "print(classification_report(ytest, y_pred4)) #accuracy"
      ]
    },
    {
      "cell_type": "code",
      "source": [
        "from sklearn.inspection import permutation_importance\n",
        "# perform permutation importance\n",
        "results = permutation_importance(model4, xtrain,ytrain, scoring='accuracy')\n",
        "# get importance\n",
        "importance4 = results.importances_mean\n",
        "df4=pd.Series(importance4)\n",
        "df4.index=x.columns\n",
        "df4.sort_values(ascending=False)"
      ],
      "metadata": {
        "colab": {
          "base_uri": "https://localhost:8080/"
        },
        "id": "6XR3GAxfh_Bv",
        "outputId": "151d5f67-48d2-431f-f5e1-af37451e0d7d"
      },
      "execution_count": null,
      "outputs": [
        {
          "output_type": "execute_result",
          "data": {
            "text/plain": [
              "ST slope               0.052101\n",
              "cp_type                0.025840\n",
              "exercise angina        0.016597\n",
              "sex                    0.013445\n",
              "oldpeak                0.011345\n",
              "cholesterol            0.008403\n",
              "fasting blood sugar    0.004412\n",
              "max heart rate         0.001471\n",
              "age                    0.001261\n",
              "resting bp s           0.001050\n",
              "resting ecg           -0.001050\n",
              "dtype: float64"
            ]
          },
          "metadata": {},
          "execution_count": 34
        }
      ]
    },
    {
      "cell_type": "code",
      "execution_count": null,
      "metadata": {
        "colab": {
          "base_uri": "https://localhost:8080/",
          "height": 586
        },
        "id": "lV26Swyr1B_8",
        "outputId": "cd1e4fb6-f56c-4970-f754-241eeca6ec1e"
      },
      "outputs": [
        {
          "output_type": "execute_result",
          "data": {
            "text/plain": [
              "<matplotlib.axes._subplots.AxesSubplot at 0x7f5881a52e50>"
            ]
          },
          "metadata": {},
          "execution_count": 35
        },
        {
          "output_type": "display_data",
          "data": {
            "text/plain": [
              "<Figure size 1440x576 with 1 Axes>"
            ],
            "image/png": "[encoded data removed]"
          },
          "metadata": {
            "needs_background": "light"
          }
        }
      ],
      "source": [
        "df4.sort_values(ascending=False).plot.bar(figsize=(20,8))"
      ]
    },
    {
      "cell_type": "markdown",
      "metadata": {
        "id": "uzNxWnvSQD3f"
      },
      "source": [
        "**AdaBoostClassifier**"
      ]
    },
    {
      "cell_type": "code",
      "execution_count": null,
      "metadata": {
        "colab": {
          "base_uri": "https://localhost:8080/"
        },
        "id": "FqPlpUfrqtwj",
        "outputId": "74373bb9-96e0-44c9-a46d-46b1b5664aaa"
      },
      "outputs": [
        {
          "output_type": "stream",
          "name": "stdout",
          "text": [
            "              precision    recall  f1-score   support\n",
            "\n",
            "           0       0.84      0.88      0.86       104\n",
            "           1       0.91      0.87      0.89       134\n",
            "\n",
            "    accuracy                           0.88       238\n",
            "   macro avg       0.88      0.88      0.88       238\n",
            "weighted avg       0.88      0.88      0.88       238\n",
            "\n"
          ]
        }
      ],
      "source": [
        "from sklearn.metrics import classification_report\n",
        "from sklearn.ensemble import AdaBoostClassifier\n",
        "model5=AdaBoostClassifier(random_state=4)\n",
        "model5.fit(xtrain, ytrain) #train model\n",
        "y_pred5 = model5.predict(xtest)\n",
        "print(classification_report(ytest, y_pred5)) #accuracy\n"
      ]
    },
    {
      "cell_type": "code",
      "source": [
        "df5=pd.Series(model5.feature_importances_)\n",
        "df5.index=x.columns\n",
        "df5.sort_values(ascending=False)"
      ],
      "metadata": {
        "colab": {
          "base_uri": "https://localhost:8080/"
        },
        "id": "QoZl8dc6iqxw",
        "outputId": "6fee8597-f244-4e86-efc5-caa7cb33511e"
      },
      "execution_count": null,
      "outputs": [
        {
          "output_type": "execute_result",
          "data": {
            "text/plain": [
              "cholesterol            0.34\n",
              "age                    0.18\n",
              "resting bp s           0.16\n",
              "max heart rate         0.08\n",
              "oldpeak                0.08\n",
              "ST slope               0.06\n",
              "sex                    0.02\n",
              "cp_type                0.02\n",
              "fasting blood sugar    0.02\n",
              "resting ecg            0.02\n",
              "exercise angina        0.02\n",
              "dtype: float64"
            ]
          },
          "metadata": {},
          "execution_count": 37
        }
      ]
    },
    {
      "cell_type": "code",
      "execution_count": null,
      "metadata": {
        "colab": {
          "base_uri": "https://localhost:8080/",
          "height": 586
        },
        "id": "PK0rQQjVkv30",
        "outputId": "557b862c-52e5-4245-f6bf-9afa222137d2"
      },
      "outputs": [
        {
          "output_type": "execute_result",
          "data": {
            "text/plain": [
              "<matplotlib.axes._subplots.AxesSubplot at 0x7f587f02b9d0>"
            ]
          },
          "metadata": {},
          "execution_count": 38
        },
        {
          "output_type": "display_data",
          "data": {
            "text/plain": [
              "<Figure size 1440x576 with 1 Axes>"
            ],
            "image/png": "[encoded data removed]"
          },
          "metadata": {
            "needs_background": "light"
          }
        }
      ],
      "source": [
        "df5.sort_values(ascending=False).plot.bar(figsize=(20,8))"
      ]
    },
    {
      "cell_type": "markdown",
      "metadata": {
        "id": "RO-vFUaBP4h2"
      },
      "source": [
        "gradient boosting **machine**"
      ]
    },
    {
      "cell_type": "code",
      "execution_count": null,
      "metadata": {
        "colab": {
          "base_uri": "https://localhost:8080/"
        },
        "id": "dW2gvLyCgOvh",
        "outputId": "46cb8cad-e318-432d-aaa7-e2cd887fa73f"
      },
      "outputs": [
        {
          "output_type": "stream",
          "name": "stdout",
          "text": [
            "              precision    recall  f1-score   support\n",
            "\n",
            "           0       0.90      0.94      0.92       104\n",
            "           1       0.95      0.92      0.94       134\n",
            "\n",
            "    accuracy                           0.93       238\n",
            "   macro avg       0.93      0.93      0.93       238\n",
            "weighted avg       0.93      0.93      0.93       238\n",
            "\n"
          ]
        }
      ],
      "source": [
        "from sklearn.metrics import classification_report\n",
        "from sklearn.ensemble import GradientBoostingClassifier\n",
        "model6 = GradientBoostingClassifier(n_estimators=5000,max_features='sqrt')\n",
        "model6.fit(xtrain,ytrain)\n",
        "y_pred6 = model6.predict(xtest)\n",
        "print(classification_report(ytest, y_pred6)) #accuracy"
      ]
    },
    {
      "cell_type": "code",
      "source": [
        "df6=pd.Series(model6.feature_importances_)\n",
        "df6.index=x.columns\n",
        "df6.sort_values(ascending=False)"
      ],
      "metadata": {
        "colab": {
          "base_uri": "https://localhost:8080/"
        },
        "id": "NbMUUrmDjFxH",
        "outputId": "5dde51b1-69c7-42ba-c1aa-e9a7ec13434a"
      },
      "execution_count": null,
      "outputs": [
        {
          "output_type": "execute_result",
          "data": {
            "text/plain": [
              "ST slope               0.182313\n",
              "cp_type                0.159931\n",
              "exercise angina        0.122081\n",
              "max heart rate         0.107444\n",
              "oldpeak                0.107198\n",
              "cholesterol            0.103323\n",
              "resting bp s           0.065324\n",
              "age                    0.065025\n",
              "sex                    0.053033\n",
              "fasting blood sugar    0.019877\n",
              "resting ecg            0.014451\n",
              "dtype: float64"
            ]
          },
          "metadata": {},
          "execution_count": 41
        }
      ]
    },
    {
      "cell_type": "code",
      "execution_count": null,
      "metadata": {
        "colab": {
          "base_uri": "https://localhost:8080/",
          "height": 586
        },
        "id": "zYxnJNHmlCNY",
        "outputId": "63bb0e5b-813f-440b-dc09-bdde95e531e5"
      },
      "outputs": [
        {
          "output_type": "execute_result",
          "data": {
            "text/plain": [
              "<matplotlib.axes._subplots.AxesSubplot at 0x7f587ed7f710>"
            ]
          },
          "metadata": {},
          "execution_count": 42
        },
        {
          "output_type": "display_data",
          "data": {
            "text/plain": [
              "<Figure size 1440x576 with 1 Axes>"
            ],
            "image/png": "[encoded data removed]"
          },
          "metadata": {
            "needs_background": "light"
          }
        }
      ],
      "source": [
        "df6.sort_values(ascending=False).plot.bar(figsize=(20,8))"
      ]
    },
    {
      "cell_type": "markdown",
      "metadata": {
        "id": "brKdzkzEPw5h"
      },
      "source": [
        "XGBoost (n_estimators=500)"
      ]
    },
    {
      "cell_type": "code",
      "execution_count": null,
      "metadata": {
        "colab": {
          "base_uri": "https://localhost:8080/"
        },
        "id": "mmBmDyptPK63",
        "outputId": "8d0df002-3430-4fd9-faf5-cd566e7a12fd"
      },
      "outputs": [
        {
          "output_type": "stream",
          "name": "stdout",
          "text": [
            "              precision    recall  f1-score   support\n",
            "\n",
            "           0       0.89      0.97      0.93       104\n",
            "           1       0.98      0.91      0.94       134\n",
            "\n",
            "    accuracy                           0.94       238\n",
            "   macro avg       0.93      0.94      0.94       238\n",
            "weighted avg       0.94      0.94      0.94       238\n",
            "\n"
          ]
        }
      ],
      "source": [
        "from sklearn.metrics import classification_report\n",
        "import xgboost as xgb\n",
        "model7 = xgb.XGBClassifier(n_estimators= 500)\n",
        "model7.fit(xtrain,ytrain)\n",
        "y_pred7 = model7.predict(xtest)\n",
        "print(classification_report(ytest, y_pred7)) #accuracy\n"
      ]
    },
    {
      "cell_type": "code",
      "source": [
        "df7=pd.Series(model7.feature_importances_)\n",
        "df7.index=x.columns\n",
        "df7.sort_values(ascending=False)"
      ],
      "metadata": {
        "colab": {
          "base_uri": "https://localhost:8080/"
        },
        "id": "42Ji4ntnj1K9",
        "outputId": "c474fa58-1e4a-4241-b7ab-08f5ca45bcc9"
      },
      "execution_count": null,
      "outputs": [
        {
          "output_type": "execute_result",
          "data": {
            "text/plain": [
              "ST slope               0.297199\n",
              "cp_type                0.164621\n",
              "exercise angina        0.130094\n",
              "sex                    0.097875\n",
              "fasting blood sugar    0.070452\n",
              "oldpeak                0.052519\n",
              "resting ecg            0.041555\n",
              "resting bp s           0.040521\n",
              "cholesterol            0.038712\n",
              "max heart rate         0.036772\n",
              "age                    0.029678\n",
              "dtype: float32"
            ]
          },
          "metadata": {},
          "execution_count": 44
        }
      ]
    },
    {
      "cell_type": "code",
      "execution_count": null,
      "metadata": {
        "colab": {
          "base_uri": "https://localhost:8080/",
          "height": 586
        },
        "id": "EGvyMf2elV-H",
        "outputId": "821d990b-e913-47d1-85b0-c393109c2555"
      },
      "outputs": [
        {
          "output_type": "execute_result",
          "data": {
            "text/plain": [
              "<matplotlib.axes._subplots.AxesSubplot at 0x7f587eca9190>"
            ]
          },
          "metadata": {},
          "execution_count": 45
        },
        {
          "output_type": "display_data",
          "data": {
            "text/plain": [
              "<Figure size 1440x576 with 1 Axes>"
            ],
            "image/png": "[encoded data removed]"
          },
          "metadata": {
            "needs_background": "light"
          }
        }
      ],
      "source": [
        "df7.sort_values(ascending=False).plot.bar(figsize=(20,8))"
      ]
    }
  ],
  "metadata": {
    "colab": {
      "provenance": [],
      "include_colab_link": true
    },
    "kernelspec": {
      "display_name": "Python 3",
      "name": "python3"
    },
    "language_info": {
      "name": "python"
    }
  },
  "nbformat": 4,
  "nbformat_minor": 0
}